{
 "cells": [
  {
   "cell_type": "code",
   "execution_count": 4,
   "metadata": {},
   "outputs": [],
   "source": [
    "import cv2\n",
    "import numpy as np\n",
    "import mediapipe as mp"
   ]
  },
  {
   "cell_type": "code",
   "execution_count": 5,
   "metadata": {},
   "outputs": [],
   "source": [
    "# Pose recognition\n",
    "mp_pose = mp.solutions.pose"
   ]
  },
  {
   "cell_type": "code",
   "execution_count": 6,
   "metadata": {},
   "outputs": [],
   "source": [
    "# Drawing all landmarks\n",
    "mp_drawing = mp.solutions.drawing_utils"
   ]
  },
  {
   "cell_type": "code",
   "execution_count": 7,
   "metadata": {},
   "outputs": [],
   "source": [
    "# Calculate angle\n",
    "def calculate_angle(a, b, c):\n",
    "    a = np.array(a) # Start\n",
    "    b = np.array(b) # Middle\n",
    "    c = np.array(c) # End\n",
    "    \n",
    "    radians = np.arctan2(c[1] - b[1], c[0] - b[0]) - np.arctan2(a[1] - b[1], a[0] - b[0])\n",
    "    angle = np.abs(radians*180.0/np.pi)\n",
    "\n",
    "    if angle > 180.0:\n",
    "        angle = 360 - angle    \n",
    "    return angle "
   ]
  },
  {
   "cell_type": "code",
   "execution_count": 8,
   "metadata": {},
   "outputs": [],
   "source": [
    "# Video input\n",
    "cap = cv2.VideoCapture('KneeBendVideo.mp4')\n",
    "\n",
    "\n",
    "width = int(cap.get(cv2.CAP_PROP_FRAME_WIDTH))\n",
    "height = int(cap.get(cv2.CAP_PROP_FRAME_HEIGHT))\n",
    "size = (width, height)\n",
    "fps = int(cap.get(cv2.CAP_PROP_FPS))\n",
    "\n",
    "\n",
    "relax_counter = 0 \n",
    "bent_counter = 0\n",
    "counter = 0\n",
    "stage = None\n",
    "feedback = None\n",
    "images_array=[]"
   ]
  },
  {
   "cell_type": "code",
   "execution_count": null,
   "metadata": {},
   "outputs": [],
   "source": [
    "# Mediapipe Instance\n",
    "with mp_pose.Pose(min_detection_confidence = 0.5, min_tracking_confidence = 0.5) as pose:\n",
    "    while cap.isOpened():\n",
    "        ret, frame = cap.read()\n",
    "        if not ret:\n",
    "            break\n",
    "\n",
    "        # Recolor image to RGB\n",
    "        image = cv2.cvtColor(frame, cv2.COLOR_BGR2RGB)\n",
    "        image.flags.writeable = False\n",
    "      \n",
    "\n",
    "        results = pose.process(image)\n",
    "    \n",
    "        # Recolor back to BGR\n",
    "        image.flags.writeable = True\n",
    "        image = cv2.cvtColor(image, cv2.COLOR_RGB2BGR)\n",
    "        \n",
    "        # Extract Landmarks\n",
    "        try:\n",
    "            landmarks = results.pose_landmarks.landmark\n",
    "            \n",
    "\n",
    "            hip = [landmarks[mp_pose.PoseLandmark.LEFT_HIP.value].x, landmarks[mp_pose.PoseLandmark.LEFT_HIP.value].y]\n",
    "            knee = [landmarks[mp_pose.PoseLandmark.LEFT_KNEE.value].x, landmarks[mp_pose.PoseLandmark.LEFT_KNEE.value].y]\n",
    "            ankle = [landmarks[mp_pose.PoseLandmark.LEFT_ANKLE.value].x, landmarks[mp_pose.PoseLandmark.LEFT_ANKLE.value].y]\n",
    "            shoulder = [landmarks[mp_pose.PoseLandmark.LEFT_SHOULDER.value].x, landmarks[mp_pose.PoseLandmark.LEFT_SHOULDER.value].y]\n",
    "            \n",
    "\n",
    "            angle = calculate_angle(hip, knee, ankle)\n",
    "\n",
    "\n",
    "            a0 = int(ankle[0] * width)\n",
    "            a1 = int(ankle[1] * height)\n",
    "\n",
    "            k0 = int(knee[0] * width)\n",
    "            k1 = int(knee[1] * height)\n",
    "\n",
    "            h0 = int(hip[0] * width)\n",
    "            h1 = int(hip[1] * height)\n",
    "\n",
    "            cv2.line(image, (h0, h1), (k0, k1), (255, 255, 255), 2)\n",
    "            cv2.line(image, (k0, k1), (a0, a1), (255, 255, 255), 2)\n",
    "            cv2.circle(image, (h0, h1), 5, (0, 0, 0), cv2.FILLED)\n",
    "            cv2.circle(image, (k0, k1), 5, (0, 0, 0), cv2.FILLED)\n",
    "            cv2.circle(image, (a0, a1), 5, (0, 0, 0), cv2.FILLED)       \n",
    "            \n",
    "\n",
    "            cv2.putText(image, str(round(angle,4)), tuple(np.multiply(shoulder, [640, 480]).astype(int)), \n",
    "                        cv2.FONT_HERSHEY_SIMPLEX, 0.5, (0, 0, 0), 2, cv2.LINE_AA)\n",
    "            \n",
    "            relax_time = (1 / fps) * relax_counter\n",
    "            bent_time = (1 / fps) * bent_counter\n",
    "\n",
    "\n",
    "            if angle > 140:\n",
    "                relax_counter += 1\n",
    "                bent_counter = 0\n",
    "                stage = \"Relaxed\"\n",
    "                feedback = \"\"\n",
    "            \n",
    "            if angle < 140:\n",
    "                relax_counter = 0\n",
    "                bent_counter += 1\n",
    "                stage = \"Bent\"\n",
    "                feedback = \"\"\n",
    "            \n",
    "            # Sucessful rep\n",
    "            if bent_time == 8:\n",
    "                counter += 1\n",
    "                feedback = 'Rep Completed'\n",
    "                \n",
    "            elif bent_time < 8 and stage == 'Bent':\n",
    "                feedback = 'Keep your knee bent'\n",
    "            \n",
    "            else:\n",
    "                feedback = \"\"\n",
    "                \n",
    "        except:\n",
    "            pass\n",
    "                \n",
    "        # Status box\n",
    "        cv2.rectangle(image, (0,0), (int(width), 60), (160,160,160), -1)\n",
    "        \n",
    "        # Rep data\n",
    "        cv2.putText(image, 'REPS', (10,15), \n",
    "                    cv2.FONT_HERSHEY_SIMPLEX, 0.5, (0,0,0), 1, cv2.LINE_AA)\n",
    "        \n",
    "        cv2.putText(image, str(counter), \n",
    "                    (10,50), \n",
    "                    cv2.FONT_HERSHEY_SIMPLEX, 1, (0,0,255), 2, cv2.LINE_AA) \n",
    "        \n",
    "        # State data\n",
    "        cv2.putText(image, 'STATE', (105,15), \n",
    "                    cv2.FONT_HERSHEY_SIMPLEX, 0.5, (0,0,0), 1, cv2.LINE_AA)\n",
    "        cv2.putText(image, stage, \n",
    "                    (105,50), \n",
    "                    cv2.FONT_HERSHEY_SIMPLEX, 1, (255, 255, 0), 2, cv2.LINE_AA)\n",
    "        \n",
    "        # Feedback\n",
    "        cv2.putText(image, 'FEEDBACK', (315,15), \n",
    "                    cv2.FONT_HERSHEY_SIMPLEX, 0.5, (0,0,0), 1, cv2.LINE_AA)\n",
    "        \n",
    "        cv2.putText(image, feedback, \n",
    "                    (315,50), \n",
    "                    cv2.FONT_HERSHEY_SIMPLEX, 1, (0,0,255), 2, cv2.LINE_AA)\n",
    "        \n",
    "        # Bent Time\n",
    "        cv2.putText(image, 'BENT TIME', (725,15), \n",
    "                    cv2.FONT_HERSHEY_SIMPLEX, 0.5, (0,0,0), 1, cv2.LINE_AA)\n",
    "        \n",
    "        cv2.putText(image, str(round(bent_time,2)), \n",
    "                    (725,50), \n",
    "                    cv2.FONT_HERSHEY_SIMPLEX, 1, (255, 255, 0), 2, cv2.LINE_AA)  \n",
    "\n",
    "        images_array.append(image) \n",
    "        \n",
    "        cv2.imshow('Knee Bend Excercise', image)\n",
    "        if cv2.waitKey(10) & 0xFF == ord('q'):\n",
    "            break\n",
    "\n",
    "    cap.release()\n",
    "    cv2.destroyAllWindows()\n",
    "\n"
   ]
  },
  {
   "cell_type": "code",
   "execution_count": 3,
   "metadata": {},
   "outputs": [
    {
     "name": "stdout",
     "output_type": "stream",
     "text": [
      "Output.mp4 is Generated Successfully!!!\n"
     ]
    }
   ],
   "source": [
    "# Generate output video\n",
    "out = cv2.VideoWriter('Output.mp4', cv2.VideoWriter_fourcc(*'DIVX'), fps, size)\n",
    "for i in range(len(images_array)):\n",
    "    out.write(images_array[i])\n",
    "out.release()\n",
    "print(\"Output.mp4 is Generated Successfully!!!\")"
   ]
  },
  {
   "cell_type": "code",
   "execution_count": null,
   "metadata": {},
   "outputs": [],
   "source": []
  }
 ],
 "metadata": {
  "kernelspec": {
   "display_name": "base",
   "language": "python",
   "name": "python3"
  },
  "language_info": {
   "codemirror_mode": {
    "name": "ipython",
    "version": 3
   },
   "file_extension": ".py",
   "mimetype": "text/x-python",
   "name": "python",
   "nbconvert_exporter": "python",
   "pygments_lexer": "ipython3",
   "version": "3.9.12"
  },
  "orig_nbformat": 4,
  "vscode": {
   "interpreter": {
    "hash": "7f745a86bac720eb1301f11489b70964baba2d9cdb838685977abfd50058e3c2"
   }
  }
 },
 "nbformat": 4,
 "nbformat_minor": 2
}
